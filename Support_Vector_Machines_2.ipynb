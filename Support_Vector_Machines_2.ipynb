{
  "cells": [
    {
      "cell_type": "markdown",
      "metadata": {
        "id": "0_6codqFnXgi"
      },
      "source": [
        "# SVM for classification, without and with kernels\n",
        "\n",
        "In this notebook we are going to explore the use of Support Vector Machines (SVMs) for image classification. We are going to use the famous MNIST dataset, that is a dataset of handwritten digits. We get the data from mldata.org, that is a public repository for machine learning data.\n",
        "\n",
        "The dataset consists of 70,000 images of handwritten digits (i.e., 0, 1, ... 9). Each image is 28 pixels by 28 pixels and we can think of it as a vector of 28x28 = 784 numbers. Each number is an integer between 0 and 255. For each image we have the corresponding label (i.e., 0, 1, ..., 9)."
      ]
    },
    {
      "cell_type": "code",
      "execution_count": 1,
      "metadata": {
        "id": "w7owrXabnXgn"
      },
      "outputs": [],
      "source": [
        "#load the required packages\n",
        "\n",
        "%matplotlib inline\n",
        "\n",
        "import numpy as np\n",
        "import matplotlib.pyplot as plt\n",
        "\n",
        "import sklearn\n",
        "from sklearn.datasets import fetch_openml"
      ]
    },
    {
      "cell_type": "markdown",
      "metadata": {
        "id": "f1Q2n9z_nXgr"
      },
      "source": [
        "Now let's load the dataset. 'data' contains the input, 'target' contains the label. We normalize the data by dividing each value by 255 so that each value is in [0,1]"
      ]
    },
    {
      "cell_type": "code",
      "execution_count": 2,
      "metadata": {
        "id": "Zn7ErChanXgs",
        "colab": {
          "base_uri": "https://localhost:8080/"
        },
        "outputId": "83151458-046f-4682-ad78-104572d7baa5"
      },
      "outputs": [
        {
          "output_type": "stream",
          "name": "stderr",
          "text": [
            "/usr/local/lib/python3.10/dist-packages/sklearn/datasets/_openml.py:968: FutureWarning: The default value of `parser` will change from `'liac-arff'` to `'auto'` in 1.4. You can set `parser='auto'` to silence this warning. Therefore, an `ImportError` will be raised from 1.4 if the dataset is dense and pandas is not installed. Note that the pandas parser may return different data types. See the Notes Section in fetch_openml's API doc for details.\n",
            "  warn(\n"
          ]
        }
      ],
      "source": [
        "# TODO: Normalize MNIST dataset and rescale the data\n",
        "# Load the MNIST dataset and normalize the features so that each value is in the range [0,1]\n",
        "mnist = fetch_openml('mnist_784', version=1)\n",
        "# Rescale the data\n",
        "X, y = mnist.data.to_numpy() / 255., mnist.target.to_numpy()"
      ]
    },
    {
      "cell_type": "markdown",
      "metadata": {
        "id": "THXcR9T1nXgu"
      },
      "source": [
        "Now split into training and test. We keep 500 samples in the training set. Make sure that each label is present at least 10 times\n",
        "in training. If it is not, then keep adding permutations to the initial data until this\n",
        "happens.\n",
        "\n",
        "**IMPORTANT**: if you cannot run the SVM with 500 samples or 1000 samples (see below), try with a smaller number of samples (e.g. 200 here and 400 below)."
      ]
    },
    {
      "cell_type": "code",
      "execution_count": 3,
      "metadata": {
        "id": "mK2rPXy3nXgv",
        "colab": {
          "base_uri": "https://localhost:8080/"
        },
        "outputId": "61af5513-5e2d-4492-c679-fdea82124a13"
      },
      "outputs": [
        {
          "output_type": "stream",
          "name": "stdout",
          "text": [
            "Labels and their frequencies in the training dataset: \n",
            "0: 50\n",
            "1: 56\n",
            "2: 48\n",
            "3: 53\n",
            "4: 53\n",
            "5: 39\n",
            "6: 58\n",
            "7: 40\n",
            "8: 52\n",
            "9: 51\n"
          ]
        }
      ],
      "source": [
        "# Randomly permute the data and split it into training and test sets, taking the first 500\n",
        "# data samples as training and the rest as test.\n",
        "permutation = np.random.permutation(X.shape[0])\n",
        "\n",
        "X = X[permutation]\n",
        "y = y[permutation]\n",
        "\n",
        "m_training = 500\n",
        "\n",
        "X_train, X_test = X[:m_training], X[m_training:]\n",
        "y_train, y_test = y[:m_training], y[m_training:]\n",
        "\n",
        "# Print the labels and their frequencies in the training dataset.\n",
        "print(\"Labels and their frequencies in the training dataset: \")\n",
        "unique_labels, label_counts = np.unique(y_train, return_counts=True)\n",
        "for label, count in zip(unique_labels, label_counts):\n",
        "    print(f\"{label}: {count}\")"
      ]
    },
    {
      "cell_type": "markdown",
      "metadata": {
        "id": "45ksUODunXgw"
      },
      "source": [
        "We now provide a function to print an image in a dataset, the corresponding true label, and the index of the image in the dataset."
      ]
    },
    {
      "cell_type": "code",
      "source": [
        "def plot_digit(X_matrix, labels, index):\n",
        "    \"\"\"\n",
        "    Plots a digit from the X_matrix and prints the corresponding label.\n",
        "    Args:\n",
        "    X_matrix (numpy.ndarray): Matrix of digit images.\n",
        "    labels (numpy.ndarray): Array of digit labels.\n",
        "    index (int): Index of the digit to plot and print.\n",
        "    \"\"\"\n",
        "    print(\"INPUT:\")\n",
        "    plt.imshow(\n",
        "        X_matrix[index].reshape(28,28),\n",
        "        cmap          = plt.cm.gray_r,\n",
        "        interpolation = \"nearest\"\n",
        "    )\n",
        "    plt.show()\n",
        "    print(\"LABEL: %s\" % labels[index])"
      ],
      "metadata": {
        "id": "TeXh2BpHrd-5"
      },
      "execution_count": 4,
      "outputs": []
    },
    {
      "cell_type": "markdown",
      "metadata": {
        "id": "JEDj_SMOnXgz"
      },
      "source": [
        "As an example, let's print the 100-th image in X_train and the 40,000-th image in X_test and their true labels."
      ]
    },
    {
      "cell_type": "code",
      "execution_count": null,
      "metadata": {
        "id": "9USuS-ztnXg1",
        "colab": {
          "base_uri": "https://localhost:8080/",
          "height": 915
        },
        "outputId": "2d92f97a-4b32-4d22-c287-66a526b7c52e"
      },
      "outputs": [
        {
          "output_type": "stream",
          "name": "stdout",
          "text": [
            "INPUT:\n"
          ]
        },
        {
          "output_type": "display_data",
          "data": {
            "text/plain": [
              "<Figure size 640x480 with 1 Axes>"
            ],
            "image/png": "[encoded data removed]"
          },
          "metadata": {}
        },
        {
          "output_type": "stream",
          "name": "stdout",
          "text": [
            "LABEL: 2\n",
            "INPUT:\n"
          ]
        },
        {
          "output_type": "display_data",
          "data": {
            "text/plain": [
              "<Figure size 640x480 with 1 Axes>"
            ],
            "image/png": "[encoded data removed]"
          },
          "metadata": {}
        },
        {
          "output_type": "stream",
          "name": "stdout",
          "text": [
            "LABEL: 6\n"
          ]
        }
      ],
      "source": [
        "# Plot the 100th digit in the training set\n",
        "plot_digit(X_train, y_train, 100)\n",
        "\n",
        "# Plot the 40,000th digit in the test set\n",
        "plot_digit(X_test, y_test,40000)"
      ]
    },
    {
      "cell_type": "markdown",
      "metadata": {
        "id": "dp9-uKtFnXg4"
      },
      "source": [
        "## Section 1\n",
        "Run SVM with cross validation to pick a kernel and values of parameters. Use a 5-fold cross-validation to pick the best kernel and choice of parameters. We provide some potential choice for parameters, but change the grid if needed (e.g., it takes too long). For the SVM for classification use SVC from sklearn.svm; for the grid search we suggest you use GridSearchCV from sklearn.model_selection, but you can implement your own cross-validation for model selection if you prefer.\n",
        "\n",
        "Print the best parameters used as well as the score obtained by the best model"
      ]
    },
    {
      "cell_type": "code",
      "source": [
        "# Import the Support Vector Classifier (SVC) and GridSearchCV modules\n",
        "from sklearn.svm import SVC\n",
        "from sklearn.model_selection import GridSearchCV\n",
        "\n",
        "# Set the parameters for the linear SVM\n",
        "parameters = {'C': [1, 10, 100]}\n",
        "\n",
        "# Create a linear SVM object\n",
        "linear_SVM = SVC(kernel='linear')\n",
        "\n",
        "# TO DO: Find the best model using 5-fold cross-validation and train it using all the training data\n",
        "clf = GridSearchCV(linear_SVM, parameters, cv = 5)\n",
        "clf.fit(X_train, y_train)\n",
        "\n",
        "# Print the results for the linear kernel\n",
        "print('RESULTS FOR LINEAR KERNEL\\n')\n",
        "\n",
        "print(\"Best parameters set found:\")\n",
        "# TO DO\n",
        "print(clf.best_params_)\n",
        "print(\"Score with best parameters:\")\n",
        "# TO DO\n",
        "print(clf.best_score_)\n",
        "print(\"\\nAll scores on the grid:\")\n",
        "# TO DO\n",
        "print(clf.cv_results_['mean_test_score'])\n",
        "\n",
        "# Set the parameters for the polynomial kernel with degree 2\n",
        "parameters = {'C': [1, 10, 100], 'gamma': [0.01, 0.1, 1.]}\n",
        "# Create a polynomial kernel with degree 2 SVM object\n",
        "poly2_SVM = SVC(kernel='poly', degree=2)\n",
        "\n",
        "# TO DO: Find the best model using 5-fold cross-validation and train it using all the training data\n",
        "clf = GridSearchCV(poly2_SVM, parameters, cv = 5)\n",
        "clf.fit(X_train, y_train)\n",
        "\n",
        "# Print the results for the polynomial kernel with degree 2\n",
        "print('\\nRESULTS FOR POLY DEGREE=2 KERNEL\\n')\n",
        "\n",
        "print(\"Best parameters set found:\")\n",
        "# TO DO\n",
        "print(clf.best_params_)\n",
        "print(\"Score with best parameters:\")\n",
        "# TO DO\n",
        "print(clf.best_score_)\n",
        "print(\"\\nAll scores on the grid:\")\n",
        "# TO DO\n",
        "print(clf.cv_results_['mean_test_score'])\n",
        "\n",
        "# Set the parameters for the RBF kernel\n",
        "parameters = {'C': [1, 10, 100], 'gamma': [0.01, 0.1, 1.]}\n",
        "\n",
        "# Create an RBF kernel SVM object\n",
        "rbf_SVM = SVC(kernel='rbf')\n",
        "\n",
        "# TO DO: Find the best model using 5-fold cross-validation and train it using all the training data\n",
        "clf = GridSearchCV(rbf_SVM , parameters, cv = 5)\n",
        "clf.fit(X_train, y_train)\n",
        "\n",
        "# Print the results for the RBF kernel\n",
        "print('\\nRESULTS FOR RBF KERNEL\\n')\n",
        "\n",
        "print(\"Best parameters set found:\")\n",
        "# TO DO\n",
        "print(clf.best_params_)\n",
        "print(\"Score with best parameters:\")\n",
        "# TO DO\n",
        "print(clf.best_score_)\n",
        "print(\"\\nAll scores on the grid:\")\n",
        "# TO DO\n",
        "print(clf.cv_results_['mean_test_score'])"
      ],
      "metadata": {
        "id": "49FHb1CKuSa2",
        "colab": {
          "base_uri": "https://localhost:8080/"
        },
        "outputId": "9e39bda6-8951-42e4-ccaf-72b1aa547bbe"
      },
      "execution_count": 6,
      "outputs": [
        {
          "output_type": "stream",
          "name": "stdout",
          "text": [
            "RESULTS FOR LINEAR KERNEL\n",
            "\n",
            "Best parameters set found:\n",
            "{'C': 1}\n",
            "Score with best parameters:\n",
            "0.8560000000000001\n",
            "\n",
            "All scores on the grid:\n",
            "[0.856 0.856 0.856]\n",
            "\n",
            "RESULTS FOR POLY DEGREE=2 KERNEL\n",
            "\n",
            "Best parameters set found:\n",
            "{'C': 1, 'gamma': 0.1}\n",
            "Score with best parameters:\n",
            "0.8539999999999999\n",
            "\n",
            "All scores on the grid:\n",
            "[0.816 0.854 0.854 0.852 0.854 0.854 0.854 0.854 0.854]\n",
            "\n",
            "RESULTS FOR RBF KERNEL\n",
            "\n",
            "Best parameters set found:\n",
            "{'C': 10, 'gamma': 0.01}\n",
            "Score with best parameters:\n",
            "0.8880000000000001\n",
            "\n",
            "All scores on the grid:\n",
            "[0.882 0.488 0.116 0.888 0.516 0.116 0.888 0.516 0.116]\n"
          ]
        }
      ]
    },
    {
      "cell_type": "markdown",
      "metadata": {
        "id": "sECvVFNvnXg6"
      },
      "source": [
        "## Section 2\n",
        "For the \"best\" SVM kernel and choice of parameters from above, train the model on the entire training set and measure the training error. Also make predictions on the test set and measure the test error. Print the training and the test error."
      ]
    },
    {
      "cell_type": "code",
      "execution_count": 7,
      "metadata": {
        "id": "sk0mqc0QnXg6",
        "colab": {
          "base_uri": "https://localhost:8080/"
        },
        "outputId": "cfec467a-1f08-47c5-8f2c-7b7d947e0f15"
      },
      "outputs": [
        {
          "output_type": "stream",
          "name": "stdout",
          "text": [
            "Best SVM training error: 0.000000\n",
            "Best SVM test error: 0.099079\n"
          ]
        }
      ],
      "source": [
        "# Get the best SVM model from cross-validation\n",
        "best_SVM = SVC(kernel='rbf',C = 10,gamma = 0.01) # TO DO\n",
        "\n",
        "# Fit the model on the entire training set\n",
        "best_SVM.fit(X_train, y_train)\n",
        "\n",
        "# Get the training and test error\n",
        "training_error = 1. - best_SVM.score(X_train, y_train)\n",
        "test_error = 1. - best_SVM.score(X_test, y_test)\n",
        "\n",
        "# Print the training and test error for the best SVM model\n",
        "print(\"Best SVM training error: %f\" % training_error)\n",
        "print(\"Best SVM test error: %f\" % test_error)\n"
      ]
    },
    {
      "cell_type": "markdown",
      "metadata": {
        "id": "-nMoD65fnXg6"
      },
      "source": [
        "## Use logistic regression for comparison\n",
        "\n",
        "## Section 3\n",
        "\n",
        "Just for comparison let's also use logistic regression, first with the default values of the parameter for regularization and then with cross-validation to fix the value of the parameter. For cross validation, use 5-fold cross validation and the default values of the regularization parameters for the function linear_model.LogisticRegressionCV(...)"
      ]
    },
    {
      "cell_type": "code",
      "source": [
        "from sklearn import linear_model\n",
        "\n",
        "# Create a logistic regression object\n",
        "lr = linear_model.LogisticRegression()\n",
        "\n",
        "# TODO: Fit the model on the training data\n",
        "# ADD CODE\n",
        "lr.fit(X_train,y_train)\n",
        "\n",
        "# Compute the training and test error for the logistic regression model\n",
        "training_error = 1.-lr.score(X_train,y_train) # TODO\n",
        "test_error = 1.-lr.score(X_test,y_test) # TODO\n",
        "\n",
        "print(\"Best logistic regression training error: %f\" % training_error)\n",
        "print(\"Best logistic regression test error: %f\" % test_error)\n",
        "\n",
        "# Use logistic regression with 5-fold cross-validation\n",
        "# You can use linear_model.LogisticRegressionCV\n",
        "# Use 5-fold cross-validation to find the best choice of the parameter, then train\n",
        "# the model on the entire training set\n",
        "\n",
        "lr_cv = linear_model.LogisticRegressionCV(cv = 5)\n",
        "lr_cv.fit(X_train,y_train) # TODO\n",
        "training_error_cv = 1.-lr_cv.score(X_train,y_train) # TODO\n",
        "test_error_cv = 1.-lr_cv.score(X_test,y_test) # TODO\n",
        "\n",
        "print(\"Best logistic regression training error: %f\" % training_error_cv)\n",
        "print(\"Best logistic regression test error: %f\" % test_error_cv)\n"
      ],
      "metadata": {
        "id": "lHBdJ76QtwDB",
        "colab": {
          "base_uri": "https://localhost:8080/"
        },
        "outputId": "efed01cf-f6db-4cac-8831-49b57bace2b4"
      },
      "execution_count": 8,
      "outputs": [
        {
          "output_type": "stream",
          "name": "stderr",
          "text": [
            "/usr/local/lib/python3.10/dist-packages/sklearn/linear_model/_logistic.py:458: ConvergenceWarning: lbfgs failed to converge (status=1):\n",
            "STOP: TOTAL NO. of ITERATIONS REACHED LIMIT.\n",
            "\n",
            "Increase the number of iterations (max_iter) or scale the data as shown in:\n",
            "    https://scikit-learn.org/stable/modules/preprocessing.html\n",
            "Please also refer to the documentation for alternative solver options:\n",
            "    https://scikit-learn.org/stable/modules/linear_model.html#logistic-regression\n",
            "  n_iter_i = _check_optimize_result(\n"
          ]
        },
        {
          "output_type": "stream",
          "name": "stdout",
          "text": [
            "Best logistic regression training error: 0.000000\n",
            "Best logistic regression test error: 0.143151\n"
          ]
        },
        {
          "output_type": "stream",
          "name": "stderr",
          "text": [
            "/usr/local/lib/python3.10/dist-packages/sklearn/linear_model/_logistic.py:458: ConvergenceWarning: lbfgs failed to converge (status=1):\n",
            "STOP: TOTAL NO. of ITERATIONS REACHED LIMIT.\n",
            "\n",
            "Increase the number of iterations (max_iter) or scale the data as shown in:\n",
            "    https://scikit-learn.org/stable/modules/preprocessing.html\n",
            "Please also refer to the documentation for alternative solver options:\n",
            "    https://scikit-learn.org/stable/modules/linear_model.html#logistic-regression\n",
            "  n_iter_i = _check_optimize_result(\n",
            "/usr/local/lib/python3.10/dist-packages/sklearn/linear_model/_logistic.py:458: ConvergenceWarning: lbfgs failed to converge (status=1):\n",
            "STOP: TOTAL NO. of ITERATIONS REACHED LIMIT.\n",
            "\n",
            "Increase the number of iterations (max_iter) or scale the data as shown in:\n",
            "    https://scikit-learn.org/stable/modules/preprocessing.html\n",
            "Please also refer to the documentation for alternative solver options:\n",
            "    https://scikit-learn.org/stable/modules/linear_model.html#logistic-regression\n",
            "  n_iter_i = _check_optimize_result(\n",
            "/usr/local/lib/python3.10/dist-packages/sklearn/linear_model/_logistic.py:458: ConvergenceWarning: lbfgs failed to converge (status=1):\n",
            "STOP: TOTAL NO. of ITERATIONS REACHED LIMIT.\n",
            "\n",
            "Increase the number of iterations (max_iter) or scale the data as shown in:\n",
            "    https://scikit-learn.org/stable/modules/preprocessing.html\n",
            "Please also refer to the documentation for alternative solver options:\n",
            "    https://scikit-learn.org/stable/modules/linear_model.html#logistic-regression\n",
            "  n_iter_i = _check_optimize_result(\n",
            "/usr/local/lib/python3.10/dist-packages/sklearn/linear_model/_logistic.py:458: ConvergenceWarning: lbfgs failed to converge (status=1):\n",
            "STOP: TOTAL NO. of ITERATIONS REACHED LIMIT.\n",
            "\n",
            "Increase the number of iterations (max_iter) or scale the data as shown in:\n",
            "    https://scikit-learn.org/stable/modules/preprocessing.html\n",
            "Please also refer to the documentation for alternative solver options:\n",
            "    https://scikit-learn.org/stable/modules/linear_model.html#logistic-regression\n",
            "  n_iter_i = _check_optimize_result(\n",
            "/usr/local/lib/python3.10/dist-packages/sklearn/linear_model/_logistic.py:458: ConvergenceWarning: lbfgs failed to converge (status=1):\n",
            "STOP: TOTAL NO. of ITERATIONS REACHED LIMIT.\n",
            "\n",
            "Increase the number of iterations (max_iter) or scale the data as shown in:\n",
            "    https://scikit-learn.org/stable/modules/preprocessing.html\n",
            "Please also refer to the documentation for alternative solver options:\n",
            "    https://scikit-learn.org/stable/modules/linear_model.html#logistic-regression\n",
            "  n_iter_i = _check_optimize_result(\n",
            "/usr/local/lib/python3.10/dist-packages/sklearn/linear_model/_logistic.py:458: ConvergenceWarning: lbfgs failed to converge (status=1):\n",
            "STOP: TOTAL NO. of ITERATIONS REACHED LIMIT.\n",
            "\n",
            "Increase the number of iterations (max_iter) or scale the data as shown in:\n",
            "    https://scikit-learn.org/stable/modules/preprocessing.html\n",
            "Please also refer to the documentation for alternative solver options:\n",
            "    https://scikit-learn.org/stable/modules/linear_model.html#logistic-regression\n",
            "  n_iter_i = _check_optimize_result(\n"
          ]
        },
        {
          "output_type": "stream",
          "name": "stdout",
          "text": [
            "Best logistic regression training error: 0.000000\n",
            "Best logistic regression test error: 0.142417\n"
          ]
        }
      ]
    },
    {
      "cell_type": "markdown",
      "metadata": {
        "id": "D1zBeUFYnXg8"
      },
      "source": [
        "## Section 4\n",
        "Compare and comment the results from SVM and logistic regression.\n",
        "\n",
        "همانطور که مشاهده می‌کنیم میزان خطا هم در آموزش و هم در تست در روش اس وی ام کمتر از لاجستیک رگرشن می‌باشد\n"
      ]
    },
    {
      "cell_type": "markdown",
      "metadata": {
        "id": "tjEGnvoynXg8"
      },
      "source": [
        "## Section 5\n",
        "Write the code that finds and plots a digit that is missclassified by logistic regression (optimized for the regularization parameter) and correctly classified by the \"best\" SVM."
      ]
    },
    {
      "cell_type": "code",
      "execution_count": 9,
      "metadata": {
        "id": "md8_fNFxnXg8",
        "colab": {
          "base_uri": "https://localhost:8080/",
          "height": 519
        },
        "outputId": "ddc379f3-3270-4b6d-9941-88cd56d1fc1c"
      },
      "outputs": [
        {
          "output_type": "stream",
          "name": "stdout",
          "text": [
            "The true label is: 4\n",
            "The true label which is predicted by best SVM is: 4\n",
            "The label which is predicted by logistic regression is: 9\n",
            "INPUT:\n"
          ]
        },
        {
          "output_type": "display_data",
          "data": {
            "text/plain": [
              "<Figure size 640x480 with 1 Axes>"
            ],
            "image/png": "[encoded data removed]"
          },
          "metadata": {}
        },
        {
          "output_type": "stream",
          "name": "stdout",
          "text": [
            "LABEL: 4\n"
          ]
        }
      ],
      "source": [
        "# ADD CODE\n",
        "y_pred_logistic = lr_cv.predict(X_test)\n",
        "y_pred_bestSVM = best_SVM.predict(X_test)\n",
        "for i in range(len(X_test)):\n",
        "  if (y_test[i] != y_pred_logistic[i] and y_test[i] == y_pred_bestSVM[i]):\n",
        "    print('The true label is:',y_test[i])\n",
        "    print('The true label which is predicted by best SVM is:',y_pred_bestSVM[i])\n",
        "    print('The label which is predicted by logistic regression is:',y_pred_logistic[i])\n",
        "    plot_digit(X_test, y_test, i)\n",
        "    break"
      ]
    },
    {
      "cell_type": "markdown",
      "metadata": {
        "id": "xrWB8rZvnXg9"
      },
      "source": [
        "## More data\n",
        "Now let's do the same but using 1000 data points for training.\n",
        "\n",
        "## Section 6\n",
        "Repeat the entire analysis above using 1000 samples. Of course you can copy the code from above."
      ]
    },
    {
      "cell_type": "code",
      "source": [
        "permutation = np.random.permutation(X.shape[0])\n",
        "\n",
        "X = X[permutation]\n",
        "y = y[permutation]\n",
        "\n",
        "m_training = 1000\n",
        "\n",
        "X_train, X_test = X[:m_training], X[m_training:]\n",
        "y_train, y_test = y[:m_training], y[m_training:]\n",
        "\n",
        "# Print the labels and their frequencies in the training dataset.\n",
        "print(\"Labels and their frequencies in the training dataset: \")\n",
        "unique_labels, label_counts = np.unique(y_train, return_counts=True)\n",
        "for label, count in zip(unique_labels, label_counts):\n",
        "    print(f\"{label}: {count}\")"
      ],
      "metadata": {
        "id": "t4r0KUBgCJu_",
        "colab": {
          "base_uri": "https://localhost:8080/"
        },
        "outputId": "1b5dd14c-4744-4852-b147-5b6103bfb1bc"
      },
      "execution_count": 10,
      "outputs": [
        {
          "output_type": "stream",
          "name": "stdout",
          "text": [
            "Labels and their frequencies in the training dataset: \n",
            "0: 93\n",
            "1: 117\n",
            "2: 84\n",
            "3: 101\n",
            "4: 86\n",
            "5: 101\n",
            "6: 102\n",
            "7: 123\n",
            "8: 96\n",
            "9: 97\n"
          ]
        }
      ]
    },
    {
      "cell_type": "code",
      "source": [
        "# Set the parameters for the linear SVM\n",
        "parameters = {'C': [1, 10, 100]}\n",
        "\n",
        "# Create a linear SVM object\n",
        "linear_SVM = SVC(kernel='linear')\n",
        "\n",
        "# TO DO: Find the best model using 5-fold cross-validation and train it using all the training data\n",
        "clf = GridSearchCV(linear_SVM, parameters, cv = 5)\n",
        "clf.fit(X_train, y_train)\n",
        "\n",
        "# Print the results for the linear kernel\n",
        "print('RESULTS FOR LINEAR KERNEL\\n')\n",
        "\n",
        "print(\"Best parameters set found:\")\n",
        "# TO DO\n",
        "print(clf.best_params_)\n",
        "print(\"Score with best parameters:\")\n",
        "# TO DO\n",
        "print(clf.best_score_)\n",
        "print(\"\\nAll scores on the grid:\")\n",
        "# TO DO\n",
        "print(clf.cv_results_['mean_test_score'])\n",
        "\n",
        "# Set the parameters for the polynomial kernel with degree 2\n",
        "parameters = {'C': [1, 10, 100], 'gamma': [0.01, 0.1, 1.]}\n",
        "# Create a polynomial kernel with degree 2 SVM object\n",
        "poly2_SVM = SVC(kernel='poly', degree=2)\n",
        "\n",
        "# TO DO: Find the best model using 5-fold cross-validation and train it using all the training data\n",
        "clf = GridSearchCV(poly2_SVM, parameters, cv = 5)\n",
        "clf.fit(X_train, y_train)\n",
        "\n",
        "# Print the results for the polynomial kernel with degree 2\n",
        "print('\\nRESULTS FOR POLY DEGREE=2 KERNEL\\n')\n",
        "\n",
        "print(\"Best parameters set found:\")\n",
        "# TO DO\n",
        "print(clf.best_params_)\n",
        "print(\"Score with best parameters:\")\n",
        "# TO DO\n",
        "print(clf.best_score_)\n",
        "print(\"\\nAll scores on the grid:\")\n",
        "# TO DO\n",
        "print(clf.cv_results_['mean_test_score'])\n",
        "\n",
        "# Set the parameters for the RBF kernel\n",
        "parameters = {'C': [1, 10, 100], 'gamma': [0.01, 0.1, 1.]}\n",
        "\n",
        "# Create an RBF kernel SVM object\n",
        "rbf_SVM = SVC(kernel='rbf')\n",
        "\n",
        "# TO DO: Find the best model using 5-fold cross-validation and train it using all the training data\n",
        "clf = GridSearchCV(rbf_SVM , parameters, cv = 5)\n",
        "clf.fit(X_train, y_train)\n",
        "\n",
        "# Print the results for the RBF kernel\n",
        "print('\\nRESULTS FOR RBF KERNEL\\n')\n",
        "\n",
        "print(\"Best parameters set found:\")\n",
        "# TO DO\n",
        "print(clf.best_params_)\n",
        "print(\"Score with best parameters:\")\n",
        "# TO DO\n",
        "print(clf.best_score_)\n",
        "print(\"\\nAll scores on the grid:\")\n",
        "# TO DO\n",
        "print(clf.cv_results_['mean_test_score'])"
      ],
      "metadata": {
        "id": "WDeV1F6cCUF3",
        "colab": {
          "base_uri": "https://localhost:8080/"
        },
        "outputId": "04914f25-66c3-40c4-b37d-5633e376c637"
      },
      "execution_count": 11,
      "outputs": [
        {
          "output_type": "stream",
          "name": "stdout",
          "text": [
            "RESULTS FOR LINEAR KERNEL\n",
            "\n",
            "Best parameters set found:\n",
            "{'C': 1}\n",
            "Score with best parameters:\n",
            "0.8850000000000001\n",
            "\n",
            "All scores on the grid:\n",
            "[0.885 0.885 0.885]\n",
            "\n",
            "RESULTS FOR POLY DEGREE=2 KERNEL\n",
            "\n",
            "Best parameters set found:\n",
            "{'C': 1, 'gamma': 0.1}\n",
            "Score with best parameters:\n",
            "0.9039999999999999\n",
            "\n",
            "All scores on the grid:\n",
            "[0.873 0.904 0.904 0.904 0.904 0.904 0.904 0.904 0.904]\n",
            "\n",
            "RESULTS FOR RBF KERNEL\n",
            "\n",
            "Best parameters set found:\n",
            "{'C': 10, 'gamma': 0.01}\n",
            "Score with best parameters:\n",
            "0.921\n",
            "\n",
            "All scores on the grid:\n",
            "[0.899 0.685 0.125 0.921 0.704 0.129 0.921 0.704 0.129]\n"
          ]
        }
      ]
    },
    {
      "cell_type": "code",
      "source": [
        "# Get the best SVM model from cross-validation\n",
        "best_SVM = SVC(kernel='rbf',C = 10,gamma = 0.01) # TO DO\n",
        "\n",
        "# Fit the model on the entire training set\n",
        "best_SVM.fit(X_train, y_train)\n",
        "\n",
        "# Get the training and test error\n",
        "training_error = 1. - best_SVM.score(X_train, y_train)\n",
        "test_error = 1. - best_SVM.score(X_test, y_test)\n",
        "\n",
        "# Print the training and test error for the best SVM model\n",
        "print(\"Best SVM training error: %f\" % training_error)\n",
        "print(\"Best SVM test error: %f\" % test_error)"
      ],
      "metadata": {
        "id": "OmWPQs9SCU8H",
        "colab": {
          "base_uri": "https://localhost:8080/"
        },
        "outputId": "684eb36e-83b8-4101-c181-a6546ca4e14b"
      },
      "execution_count": 12,
      "outputs": [
        {
          "output_type": "stream",
          "name": "stdout",
          "text": [
            "Best SVM training error: 0.000000\n",
            "Best SVM test error: 0.081159\n"
          ]
        }
      ]
    },
    {
      "cell_type": "code",
      "source": [
        "# Create a logistic regression object\n",
        "lr = linear_model.LogisticRegression()\n",
        "\n",
        "# TODO: Fit the model on the training data\n",
        "# ADD CODE\n",
        "lr.fit(X_train,y_train)\n",
        "\n",
        "# Compute the training and test error for the logistic regression model\n",
        "training_error = 1-lr.score(X_train,y_train) # TODO\n",
        "test_error = 1-lr.score(X_test,y_test) # TODO\n",
        "\n",
        "print(\"Best logistic regression training error: %f\" % training_error)\n",
        "print(\"Best logistic regression test error: %f\" % test_error)\n",
        "\n",
        "# Use logistic regression with 5-fold cross-validation\n",
        "# You can use linear_model.LogisticRegressionCV\n",
        "# Use 5-fold cross-validation to find the best choice of the parameter, then train\n",
        "# the model on the entire training set\n",
        "\n",
        "lr_cv = linear_model.LogisticRegressionCV(cv = 5)\n",
        "lr_cv.fit(X_train,y_train) # TODO\n",
        "training_error_cv = 1-lr_cv.score(X_train,y_train) # TODO\n",
        "test_error_cv = 1-lr_cv.score(X_test,y_test) # TODO\n",
        "\n",
        "print(\"Best logistic regression training error: %f\" % training_error_cv)\n",
        "print(\"Best logistic regression test error: %f\" % test_error_cv)"
      ],
      "metadata": {
        "id": "VaI2_V0oCc1e",
        "colab": {
          "base_uri": "https://localhost:8080/"
        },
        "outputId": "729f7d80-c1df-4696-9fee-10b0a1360731"
      },
      "execution_count": 13,
      "outputs": [
        {
          "output_type": "stream",
          "name": "stderr",
          "text": [
            "/usr/local/lib/python3.10/dist-packages/sklearn/linear_model/_logistic.py:458: ConvergenceWarning: lbfgs failed to converge (status=1):\n",
            "STOP: TOTAL NO. of ITERATIONS REACHED LIMIT.\n",
            "\n",
            "Increase the number of iterations (max_iter) or scale the data as shown in:\n",
            "    https://scikit-learn.org/stable/modules/preprocessing.html\n",
            "Please also refer to the documentation for alternative solver options:\n",
            "    https://scikit-learn.org/stable/modules/linear_model.html#logistic-regression\n",
            "  n_iter_i = _check_optimize_result(\n"
          ]
        },
        {
          "output_type": "stream",
          "name": "stdout",
          "text": [
            "Best logistic regression training error: 0.000000\n",
            "Best logistic regression test error: 0.133420\n"
          ]
        },
        {
          "output_type": "stream",
          "name": "stderr",
          "text": [
            "/usr/local/lib/python3.10/dist-packages/sklearn/linear_model/_logistic.py:458: ConvergenceWarning: lbfgs failed to converge (status=1):\n",
            "STOP: TOTAL NO. of ITERATIONS REACHED LIMIT.\n",
            "\n",
            "Increase the number of iterations (max_iter) or scale the data as shown in:\n",
            "    https://scikit-learn.org/stable/modules/preprocessing.html\n",
            "Please also refer to the documentation for alternative solver options:\n",
            "    https://scikit-learn.org/stable/modules/linear_model.html#logistic-regression\n",
            "  n_iter_i = _check_optimize_result(\n",
            "/usr/local/lib/python3.10/dist-packages/sklearn/linear_model/_logistic.py:458: ConvergenceWarning: lbfgs failed to converge (status=1):\n",
            "STOP: TOTAL NO. of ITERATIONS REACHED LIMIT.\n",
            "\n",
            "Increase the number of iterations (max_iter) or scale the data as shown in:\n",
            "    https://scikit-learn.org/stable/modules/preprocessing.html\n",
            "Please also refer to the documentation for alternative solver options:\n",
            "    https://scikit-learn.org/stable/modules/linear_model.html#logistic-regression\n",
            "  n_iter_i = _check_optimize_result(\n",
            "/usr/local/lib/python3.10/dist-packages/sklearn/linear_model/_logistic.py:458: ConvergenceWarning: lbfgs failed to converge (status=1):\n",
            "STOP: TOTAL NO. of ITERATIONS REACHED LIMIT.\n",
            "\n",
            "Increase the number of iterations (max_iter) or scale the data as shown in:\n",
            "    https://scikit-learn.org/stable/modules/preprocessing.html\n",
            "Please also refer to the documentation for alternative solver options:\n",
            "    https://scikit-learn.org/stable/modules/linear_model.html#logistic-regression\n",
            "  n_iter_i = _check_optimize_result(\n",
            "/usr/local/lib/python3.10/dist-packages/sklearn/linear_model/_logistic.py:458: ConvergenceWarning: lbfgs failed to converge (status=1):\n",
            "STOP: TOTAL NO. of ITERATIONS REACHED LIMIT.\n",
            "\n",
            "Increase the number of iterations (max_iter) or scale the data as shown in:\n",
            "    https://scikit-learn.org/stable/modules/preprocessing.html\n",
            "Please also refer to the documentation for alternative solver options:\n",
            "    https://scikit-learn.org/stable/modules/linear_model.html#logistic-regression\n",
            "  n_iter_i = _check_optimize_result(\n",
            "/usr/local/lib/python3.10/dist-packages/sklearn/linear_model/_logistic.py:458: ConvergenceWarning: lbfgs failed to converge (status=1):\n",
            "STOP: TOTAL NO. of ITERATIONS REACHED LIMIT.\n",
            "\n",
            "Increase the number of iterations (max_iter) or scale the data as shown in:\n",
            "    https://scikit-learn.org/stable/modules/preprocessing.html\n",
            "Please also refer to the documentation for alternative solver options:\n",
            "    https://scikit-learn.org/stable/modules/linear_model.html#logistic-regression\n",
            "  n_iter_i = _check_optimize_result(\n"
          ]
        },
        {
          "output_type": "stream",
          "name": "stdout",
          "text": [
            "Best logistic regression training error: 0.057000\n",
            "Best logistic regression test error: 0.132899\n"
          ]
        }
      ]
    },
    {
      "cell_type": "code",
      "source": [
        "y_pred_logistic = lr_cv.predict(X_test)\n",
        "y_pred_bestSVM = best_SVM.predict(X_test)\n",
        "for i in range(len(X_test)):\n",
        "  if (y_test[i] != y_pred_logistic[i] and y_test[i] == y_pred_bestSVM[i]):\n",
        "    print('The true label is:',y_test[i])\n",
        "    print('The true label which is predicted by best SVM is:',y_pred_bestSVM[i])\n",
        "    print('The label which is predicted by logistic regression is:',y_pred_logistic[i])\n",
        "    plot_digit(X_test, y_test, i)\n",
        "    break"
      ],
      "metadata": {
        "id": "qHDyWPZ3Cs-m",
        "colab": {
          "base_uri": "https://localhost:8080/",
          "height": 519
        },
        "outputId": "70ba9ae0-565d-446f-fd7e-4d91d826c3b1"
      },
      "execution_count": 14,
      "outputs": [
        {
          "output_type": "stream",
          "name": "stdout",
          "text": [
            "The true label is: 8\n",
            "The true label which is predicted by best SVM is: 8\n",
            "The label which is predicted by logistic regression is: 3\n",
            "INPUT:\n"
          ]
        },
        {
          "output_type": "display_data",
          "data": {
            "text/plain": [
              "<Figure size 640x480 with 1 Axes>"
            ],
            "image/png": "[encoded data removed]"
          },
          "metadata": {}
        },
        {
          "output_type": "stream",
          "name": "stdout",
          "text": [
            "LABEL: 8\n"
          ]
        }
      ]
    },
    {
      "cell_type": "markdown",
      "metadata": {
        "id": "0gkWCjdVnXg9"
      },
      "source": [
        "## Section 7\n",
        "Compare and comment on the differences with the results above.\n",
        "\n",
        "همانطور که مشاهده می‌کنیم با افزایش تعداد داده‌های آموزش مدل بهتری خواهیم داشت و در نهایت میزان خطا در تمامی موارد کمتر شده است و همچنان مدل اس وی ام نسبت به لاجستیک رگرشن خطای کمتر و دقت بیشتری دارد"
      ]
    }
  ],
  "metadata": {
    "kernelspec": {
      "display_name": "Python 3",
      "language": "python",
      "name": "python3"
    },
    "language_info": {
      "codemirror_mode": {
        "name": "ipython",
        "version": 3
      },
      "file_extension": ".py",
      "mimetype": "text/x-python",
      "name": "python",
      "nbconvert_exporter": "python",
      "pygments_lexer": "ipython3",
      "version": "3.8.3"
    },
    "colab": {
      "provenance": []
    }
  },
  "nbformat": 4,
  "nbformat_minor": 0
}